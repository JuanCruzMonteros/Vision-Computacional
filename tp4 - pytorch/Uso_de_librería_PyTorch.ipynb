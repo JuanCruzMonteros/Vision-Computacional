{
  "nbformat": 4,
  "nbformat_minor": 0,
  "metadata": {
    "colab": {
      "provenance": [],
      "gpuType": "T4"
    },
    "kernelspec": {
      "name": "python3",
      "display_name": "Python 3"
    },
    "language_info": {
      "name": "python"
    },
    "accelerator": "GPU"
  },
  "cells": [
    {
      "cell_type": "markdown",
      "source": [
        "# Verificamos si hay GPU disponible para que no tarde tanto en ejecutarse el entrenamiento"
      ],
      "metadata": {
        "id": "QKXeQUL9kzwM"
      }
    },
    {
      "cell_type": "code",
      "source": [
        "device = torch.device('cuda' if torch.cuda.is_available() else 'cpu')\n",
        "print(f\"Usando: {device}\")\n",
        "if device.type == 'cuda':\n",
        "    print(\"GPU detectada. Ya puedes proceder a ejecutar el notebook\")\n",
        "else:\n",
        "    print(\"Recomiendo activar modo GPU antes de avanzar\")\n",
        "    print(\"Para hacerlo: En Colab ve a Runtime > Change runtime type > GPU\")"
      ],
      "metadata": {
        "colab": {
          "base_uri": "https://localhost:8080/"
        },
        "id": "gMiEebaSkvhX",
        "outputId": "82738fb7-de4b-4a09-c778-b3bc507c1940"
      },
      "execution_count": 70,
      "outputs": [
        {
          "output_type": "stream",
          "name": "stdout",
          "text": [
            "Usando: cuda\n",
            "GPU detectada. Ya puedes proceder a ejecutar el notebook\n"
          ]
        }
      ]
    },
    {
      "cell_type": "markdown",
      "source": [
        "# Descarga de imagenes para pruebas"
      ],
      "metadata": {
        "id": "B1mKLK7injyy"
      }
    },
    {
      "cell_type": "code",
      "source": [
        "import os\n",
        "\n",
        "# Lista de imágenes a descargar\n",
        "imagenes = ['sapo1.jpg', 'sapo2.jpg', 'sapo3.jpg']\n",
        "base_url = 'https://raw.githubusercontent.com/JuanCruzMonteros/Vision-Computacional/main/tp4%20-%20pytorch/'\n",
        "\n",
        "print(\"Verificando imágenes...\")\n",
        "for img in imagenes:\n",
        "    if os.path.exists(img):\n",
        "        print(f\"✓ {img} ya existe, saltando descarga\")\n",
        "    else:\n",
        "        print(f\"↓ Descargando {img}...\")\n",
        "        !wget -q {base_url}{img}\n",
        "        print(f\"✓ {img} descargado\")"
      ],
      "metadata": {
        "colab": {
          "base_uri": "https://localhost:8080/"
        },
        "id": "tmtjX2iWni-b",
        "outputId": "23944347-e765-4205-ee01-e18ec0cdbcee"
      },
      "execution_count": 71,
      "outputs": [
        {
          "output_type": "stream",
          "name": "stdout",
          "text": [
            "Verificando imágenes...\n",
            "✓ sapo1.jpg ya existe, saltando descarga\n",
            "✓ sapo2.jpg ya existe, saltando descarga\n",
            "✓ sapo3.jpg ya existe, saltando descarga\n"
          ]
        }
      ]
    },
    {
      "cell_type": "markdown",
      "source": [
        "# IMPORTAR LIBRERÍAS"
      ],
      "metadata": {
        "id": "LE3X1TGQl-lj"
      }
    },
    {
      "cell_type": "code",
      "source": [
        "import torch\n",
        "import torchvision\n",
        "import torchvision.transforms as transforms\n",
        "import torch.nn as nn\n",
        "import torch.nn.functional as F\n",
        "import torch.optim as optim\n",
        "import cv2\n",
        "from google.colab import files"
      ],
      "metadata": {
        "id": "mXP5vbdgaW08"
      },
      "execution_count": 72,
      "outputs": []
    },
    {
      "cell_type": "markdown",
      "source": [
        "# Preparamos el modelo, definimos y configuramos la red"
      ],
      "metadata": {
        "id": "4eI2HOFAkWaj"
      }
    },
    {
      "cell_type": "code",
      "source": [
        "transform = transforms.Compose([\n",
        "    transforms.ToTensor(),\n",
        "    transforms.Normalize((0.5, 0.5, 0.5), (0.5, 0.5, 0.5))\n",
        "])\n",
        "\n",
        "classes = ('plane', 'car', 'bird', 'cat', 'deer', 'dog', 'frog', 'horse', 'ship', 'truck')\n",
        "\n",
        "class Net(nn.Module):\n",
        "    def __init__(self):\n",
        "        super().__init__()\n",
        "        self.conv1 = nn.Conv2d(3, 6, 5)\n",
        "        self.pool = nn.MaxPool2d(2, 2)\n",
        "        self.conv2 = nn.Conv2d(6, 16, 5)\n",
        "        self.fc1 = nn.Linear(16 * 5 * 5, 120)\n",
        "        self.fc2 = nn.Linear(120, 84)\n",
        "        self.fc3 = nn.Linear(84, 10)\n",
        "\n",
        "    def forward(self, x):\n",
        "        x = self.pool(F.relu(self.conv1(x)))\n",
        "        x = self.pool(F.relu(self.conv2(x)))\n",
        "        x = torch.flatten(x, 1)\n",
        "        x = F.relu(self.fc1(x))\n",
        "        x = F.relu(self.fc2(x))\n",
        "        x = self.fc3(x)\n",
        "        return x\n",
        "\n",
        "trainset = torchvision.datasets.CIFAR10(root='./data', train=True, download=True, transform=transform)"
      ],
      "metadata": {
        "id": "P-415x69i0OL"
      },
      "execution_count": 73,
      "outputs": []
    },
    {
      "cell_type": "markdown",
      "source": [
        "## Agregamos optimizaciones para mejorar el entrenamiento:\n",
        "* Como tenemos GPU aumento el batch a 128 en caso de tener GPU para procesar más imagenes por ciclo\n",
        "* Por las pruebas, con 10 epocas es más que suficiente."
      ],
      "metadata": {
        "id": "JSE9uMLVmLcY"
      }
    },
    {
      "cell_type": "code",
      "source": [
        "# Reducción del dataset\n",
        "subset_size = 50000\n",
        "subset_indices = list(range(subset_size))\n",
        "subset = torch.utils.data.Subset(trainset, subset_indices)\n",
        "\n",
        "# Incremento de batch de datos\n",
        "batch_size = 128 if device.type == 'cuda' else 32\n",
        "trainloader = torch.utils.data.DataLoader(subset, batch_size=batch_size, shuffle=True)\n",
        "\n",
        "# Creamos la red\n",
        "net = Net().to(device)\n",
        "criterion = nn.CrossEntropyLoss()\n",
        "\n",
        "optimizer = optim.SGD(net.parameters(), lr=0.01, momentum=0.9)  # lr aumentado de 0.001 a 0.01\n",
        "\n",
        "num_epochs = 10\n",
        "\n",
        "print(f\"\\nEntrenando {num_epochs} épocas con modo RÁPIDO...\")\n",
        "\n",
        "import time\n",
        "start_time = time.time()\n",
        "\n",
        "for epoch in range(num_epochs):\n",
        "    running_loss = 0.0\n",
        "    for i, data in enumerate(trainloader, 0):\n",
        "        inputs, labels = data\n",
        "        inputs, labels = inputs.to(device), labels.to(device)\n",
        "\n",
        "        optimizer.zero_grad()\n",
        "        outputs = net(inputs)\n",
        "        loss = criterion(outputs, labels)\n",
        "        loss.backward()\n",
        "        optimizer.step()\n",
        "        running_loss += loss.item()\n",
        "\n",
        "    print(f'Época {epoch + 1}: pérdida = {running_loss/len(trainloader):.3f}')\n",
        "\n",
        "elapsed_time = time.time() - start_time\n",
        "print(f\"\\n✅ Completado en {elapsed_time:.1f} segundos!\")"
      ],
      "metadata": {
        "colab": {
          "base_uri": "https://localhost:8080/"
        },
        "id": "gqZe2bd9mKY_",
        "outputId": "90d1651c-af95-4661-8524-107fe9c85c32"
      },
      "execution_count": 74,
      "outputs": [
        {
          "output_type": "stream",
          "name": "stdout",
          "text": [
            "\n",
            "Entrenando 10 épocas con modo RÁPIDO...\n",
            "Época 1: pérdida = 2.049\n",
            "Época 2: pérdida = 1.570\n",
            "Época 3: pérdida = 1.390\n",
            "Época 4: pérdida = 1.269\n",
            "Época 5: pérdida = 1.181\n",
            "Época 6: pérdida = 1.112\n",
            "Época 7: pérdida = 1.060\n",
            "Época 8: pérdida = 1.010\n",
            "Época 9: pérdida = 0.974\n",
            "Época 10: pérdida = 0.924\n",
            "\n",
            "✅ Completado en 128.9 segundos!\n"
          ]
        }
      ]
    },
    {
      "cell_type": "markdown",
      "source": [],
      "metadata": {
        "id": "SVzkyn3mm9hm"
      }
    },
    {
      "cell_type": "markdown",
      "source": [
        "# Clasificamos y probamos si reconoce los sapos evaluandolo mediante la red"
      ],
      "metadata": {
        "id": "OeLoh1V4kfsf"
      }
    },
    {
      "cell_type": "code",
      "source": [
        "print(\"\\n--- RESULTADOS ---\")\n",
        "net.eval()\n",
        "for imagen in ['sapo1.jpg', 'sapo2.jpg', 'sapo3.jpg']:\n",
        "    try:\n",
        "        img = cv2.imread(imagen)\n",
        "        img = cv2.cvtColor(img, cv2.COLOR_BGR2RGB)\n",
        "        img = cv2.resize(img, (32, 32))\n",
        "        img_tensor = transform(img).unsqueeze(0).to(device)\n",
        "\n",
        "        with torch.no_grad():\n",
        "            output = net(img_tensor)\n",
        "            _, predicted = torch.max(output, 1)\n",
        "\n",
        "        clase = classes[predicted[0]]\n",
        "\n",
        "        if clase == 'frog':\n",
        "            print(f\"{imagen}: ✅ SÍ es sapo\")\n",
        "        else:\n",
        "            print(f\"{imagen}: ❌ NO es sapo (detectó: {clase})\")\n",
        "    except:\n",
        "        print(f\"{imagen}: Error al procesar\")\n"
      ],
      "metadata": {
        "id": "GvOQihtFkhRi",
        "colab": {
          "base_uri": "https://localhost:8080/"
        },
        "outputId": "3a993731-6219-413e-c6af-6f805036aa17"
      },
      "execution_count": 75,
      "outputs": [
        {
          "output_type": "stream",
          "name": "stdout",
          "text": [
            "\n",
            "--- RESULTADOS ---\n",
            "sapo1.jpg: ✅ SÍ es sapo\n",
            "sapo2.jpg: ✅ SÍ es sapo\n",
            "sapo3.jpg: ✅ SÍ es sapo\n"
          ]
        }
      ]
    },
    {
      "cell_type": "markdown",
      "source": [],
      "metadata": {
        "id": "h2MLQ0UokUO1"
      }
    }
  ]
}